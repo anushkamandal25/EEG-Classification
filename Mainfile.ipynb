{
  "cells": [
    {
      "cell_type": "markdown",
      "metadata": {
        "id": "view-in-github",
        "colab_type": "text"
      },
      "source": [
        "<a href=\"https://colab.research.google.com/github/anushkamandal25/EEG-Classification/blob/master/Mainfile.ipynb\" target=\"_parent\"><img src=\"https://colab.research.google.com/assets/colab-badge.svg\" alt=\"Open In Colab\"/></a>"
      ]
    },
    {
      "cell_type": "code",
      "execution_count": null,
      "metadata": {
        "id": "fgQV-VyQOsQE"
      },
      "outputs": [],
      "source": []
    },
    {
      "cell_type": "code",
      "execution_count": null,
      "metadata": {
        "colab": {
          "base_uri": "https://localhost:8080/"
        },
        "id": "nq_gWRy2PU9h",
        "outputId": "8ef80e36-8aaa-4394-d3ec-54b8381f29e9"
      },
      "outputs": [
        {
          "output_type": "stream",
          "name": "stdout",
          "text": [
            "Mounted at /content/drive\n"
          ]
        }
      ],
      "source": [
        "from google.colab import drive\n",
        "drive.mount('/content/drive')"
      ]
    },
    {
      "cell_type": "code",
      "execution_count": null,
      "metadata": {
        "colab": {
          "base_uri": "https://localhost:8080/"
        },
        "id": "eI-AAFxSRPuu",
        "outputId": "fe409f34-b9cc-4dff-c8a0-f18eccb4b9ac"
      },
      "outputs": [
        {
          "output_type": "stream",
          "name": "stdout",
          "text": [
            "\u001b[0m\u001b[01;34mdrive\u001b[0m/  \u001b[01;34msample_data\u001b[0m/\n"
          ]
        }
      ],
      "source": [
        "ls"
      ]
    },
    {
      "cell_type": "code",
      "execution_count": null,
      "metadata": {
        "colab": {
          "base_uri": "https://localhost:8080/"
        },
        "id": "z-Y5dqlpRo9b",
        "outputId": "b9388c08-7320-4d9e-929a-13cd5125d6b1"
      },
      "outputs": [
        {
          "output_type": "stream",
          "name": "stdout",
          "text": [
            "/content/drive/MyDrive/EEG-Classification-master\n"
          ]
        }
      ],
      "source": [
        "cd /content/drive/MyDrive/EEG-Classification-master/"
      ]
    },
    {
      "cell_type": "code",
      "execution_count": null,
      "metadata": {
        "colab": {
          "base_uri": "https://localhost:8080/"
        },
        "id": "qd7ksDD-SC7a",
        "outputId": "d5b90a17-8c32-4e0f-e2fa-cb923740c364"
      },
      "outputs": [
        {
          "output_type": "stream",
          "name": "stdout",
          "text": [
            " 1.EEG_Signal_Classification_GoogleColab_Final_Code.ipynb\n",
            " \u001b[0m\u001b[01;34mdata\u001b[0m/\n",
            " eeg_learn_functions.py\n",
            "'Final_Code_Experimental (1).ipynb'\n",
            " Final_Code_Experimental.ipynb\n",
            " Final_Code_Run.html\n",
            " Final_Code_Run.ipynb\n",
            " galvanize_36x48_Tevis_Gehr_EEG_2.pdf\n",
            " galvanize_36x48_Tevis_Gehr_EEG.key\n",
            "'image_classification_with_vision_transformer (1).ipynb'\n",
            " image_classification_with_vision_transformer.ipynb\n",
            " Initial_EDA.ipynb\n",
            " \u001b[01;34mPictures\u001b[0m/\n",
            " \u001b[01;34m__pycache__\u001b[0m/\n",
            " README.md\n",
            " Rev1-1.ipynb\n",
            " Rev1.ipynb\n",
            " train_pipeline_2.py\n",
            " train_pipeline_3.py\n",
            " train_pipeline_4.py\n",
            " train_pipeline_5_no_overlap.py\n",
            " train_pipeline.py\n"
          ]
        }
      ],
      "source": [
        "ls"
      ]
    },
    {
      "cell_type": "code",
      "execution_count": null,
      "metadata": {
        "id": "LQbFSqlxSITS"
      },
      "outputs": [],
      "source": [
        "from eeg_learn_functions import *"
      ]
    },
    {
      "cell_type": "code",
      "execution_count": null,
      "metadata": {
        "colab": {
          "base_uri": "https://localhost:8080/",
          "height": 17
        },
        "id": "i18tUTbFPU9i",
        "outputId": "857a027a-daa5-4ac6-bb4e-c258962d3b07"
      },
      "outputs": [
        {
          "output_type": "display_data",
          "data": {
            "text/plain": [
              "<IPython.core.display.HTML object>"
            ],
            "text/html": [
              "<style>.container { width:100% !important; }</style>"
            ]
          },
          "metadata": {}
        }
      ],
      "source": [
        "import pandas as pd\n",
        "import numpy as np\n",
        "import matplotlib.pyplot as plt\n",
        "import seaborn as sns\n",
        "import scipy.stats as scs\n",
        "import re\n",
        "from numpy import genfromtxt\n",
        "\n",
        "%matplotlib inline\n",
        "plt.style.use('ggplot')\n",
        "from IPython.core.display import display, HTML\n",
        "display(HTML(\"<style>.container { width:100% !important; }</style>\"))\n",
        "plt.rcParams[\"figure.figsize\"] = (12,12)\n",
        "pd.options.display.max_columns = None\n",
        "pd.options.display.precision = 4"
      ]
    },
    {
      "cell_type": "code",
      "execution_count": null,
      "metadata": {
        "id": "pI5svomoROss"
      },
      "outputs": [],
      "source": []
    },
    {
      "cell_type": "markdown",
      "metadata": {
        "id": "rxWuY-9OPU9j"
      },
      "source": [
        "## Brainwave Frequencies:\n",
        "Gamma, 30 to 50 Hz.  \n",
        "Beta, 14 to 30 Hz.  \n",
        "Alpha, 8 to 14 Hz.  \n",
        "Theta, 4 to 8 Hz.  \n",
        "Delta, 0.1 to 4 Hz.  "
      ]
    },
    {
      "cell_type": "markdown",
      "metadata": {
        "id": "C5_3aKsDPU9k"
      },
      "source": [
        "## Changing Bin Size: \n",
        "https://stackoverflow.com/questions/25735153/plotting-a-fast-fourier-transform-in-python  \n",
        "(Search for 'bin')"
      ]
    },
    {
      "cell_type": "markdown",
      "metadata": {
        "id": "jYLBoZgnPU9k"
      },
      "source": [
        "An EEG processing library:  \n",
        "https://github.com/pbashivan/EEGLearn"
      ]
    },
    {
      "cell_type": "code",
      "execution_count": null,
      "metadata": {
        "id": "xciCN11ePU9k"
      },
      "outputs": [],
      "source": [
        "theta = (4,8)\n",
        "alpha = (8,12)\n",
        "beta = (12,40)"
      ]
    },
    {
      "cell_type": "code",
      "execution_count": null,
      "metadata": {
        "id": "V3cdW1F3PU9k"
      },
      "outputs": [],
      "source": [
        "def get_fft(snippet):\n",
        "    Fs = 128.0;  # sampling rate\n",
        "    #Ts = len(snippet)/Fs/Fs; # sampling interval\n",
        "    snippet_time = len(snippet)/Fs\n",
        "    Ts = 1.0/Fs; # sampling interval\n",
        "    t = np.arange(0,snippet_time,Ts) # time vector\n",
        "\n",
        "    # ff = 5;   # frequency of the signal\n",
        "    # y = np.sin(2*np.pi*ff*t)\n",
        "    y = snippet\n",
        "#     print('Ts: ',Ts)\n",
        "#     print(t)\n",
        "#     print(y.shape)\n",
        "    n = len(y) # length of the signal\n",
        "    k = np.arange(n)\n",
        "    T = n/Fs\n",
        "    frq = k/T # two sides frequency range\n",
        "    frq = frq[range(n//2)] # one side frequency range\n",
        "\n",
        "    Y = np.fft.fft(y)/n # fft computing and normalization\n",
        "    Y = Y[range(n//2)]\n",
        "    #Added in: (To remove bias.)\n",
        "    #Y[0] = 0\n",
        "    return frq,abs(Y)\n",
        "#f,Y = get_fft(np.hanning(len(snippet))*snippet)"
      ]
    },
    {
      "cell_type": "code",
      "execution_count": null,
      "metadata": {
        "id": "oVnSMshwPU9l"
      },
      "outputs": [],
      "source": [
        "def theta_alpha_beta_averages(f,Y):\n",
        "    theta_range = (4,8)\n",
        "    alpha_range = (8,12)\n",
        "    beta_range = (12,40)\n",
        "    theta = Y[(f>theta_range[0]) & (f<=theta_range[1])].mean()\n",
        "    alpha = Y[(f>alpha_range[0]) & (f<=alpha_range[1])].mean()\n",
        "    beta = Y[(f>beta_range[0]) & (f<=beta_range[1])].mean()\n",
        "    return theta, alpha, beta"
      ]
    },
    {
      "cell_type": "code",
      "execution_count": null,
      "metadata": {
        "id": "KPfqvTZFPU9l"
      },
      "outputs": [],
      "source": [
        "def make_steps(samples,frame_duration,overlap):\n",
        "    '''\n",
        "    in:\n",
        "    samples - number of samples in the session\n",
        "    frame_duration - frame duration in seconds \n",
        "    overlap - float fraction of frame to overlap in range (0,1)\n",
        "    \n",
        "    out: list of tuple ranges\n",
        "    '''\n",
        "    #steps = np.arange(0,len(df),frame_length)\n",
        "    Fs = 128\n",
        "    i = 0\n",
        "    intervals = []\n",
        "    samples_per_frame = Fs * frame_duration\n",
        "    while i+samples_per_frame <= samples:\n",
        "        intervals.append((i,i+samples_per_frame))\n",
        "        i = i + samples_per_frame - int(samples_per_frame*overlap)\n",
        "    return intervals"
      ]
    },
    {
      "cell_type": "code",
      "execution_count": null,
      "metadata": {
        "id": "DKRuBJYdPU9l"
      },
      "outputs": [],
      "source": [
        "def make_frames(df,frame_duration):\n",
        "    '''\n",
        "    in: dataframe or array with all channels, frame duration in seconds\n",
        "    out: array of theta, alpha, beta averages for each probe for each time step\n",
        "        shape: (n-frames,m-probes,k-brainwave bands)\n",
        "    '''\n",
        "    Fs = 128.0\n",
        "    frame_length = Fs*frame_duration\n",
        "    frames = []\n",
        "    steps = make_steps(len(df),frame_duration,overlap)\n",
        "    for i,_ in enumerate(steps):\n",
        "        frame = []\n",
        "        if i == 0:\n",
        "            continue\n",
        "        else:\n",
        "            for channel in df.columns:\n",
        "                snippet = np.array(df.loc[steps[i][0]:steps[i][1],int(channel)])\n",
        "                f,Y =  get_fft(snippet)\n",
        "                theta, alpha, beta = theta_alpha_beta_averages(f,Y)\n",
        "                frame.append([theta, alpha, beta])\n",
        "            \n",
        "        frames.append(frame)\n",
        "    return np.array(frames)"
      ]
    },
    {
      "cell_type": "code",
      "execution_count": null,
      "metadata": {
        "id": "ycHxRoOKPU9m"
      },
      "outputs": [],
      "source": [
        "locs_2d = [(-2.0,4.0),\n",
        "           (2.0,4.0),\n",
        "           (-1.0,3.0),\n",
        "           (1.0,3.0),\n",
        "           (-3.0,3.0),\n",
        "           (3.0,3.0),\n",
        "           (-2.0,2.0),\n",
        "           (2.0,2.0),\n",
        "           (-2.0,-2.0),\n",
        "           (2.0,-2.0),\n",
        "           (-4.0,1.0),\n",
        "           (4.0,1.0),\n",
        "           (-1.0,-3.0),\n",
        "           (1.0,-3.0)]"
      ]
    },
    {
      "cell_type": "code",
      "execution_count": null,
      "metadata": {
        "id": "6_NONtnAPU9m"
      },
      "outputs": [],
      "source": [
        "def make_data_pipeline(file_names,labels,image_size,frame_duration,overlap):\n",
        "    '''\n",
        "    IN: \n",
        "    file_names - list of strings for each input file (one for each subject)\n",
        "    labels - list of labels for each\n",
        "    image_size - int size of output images in form (x, x)\n",
        "    frame_duration - time length of each frame (seconds)\n",
        "    overlap - float fraction of frame to overlap in range (0,1)\n",
        "    \n",
        "    OUT:\n",
        "    X: np array of frames (unshuffled)\n",
        "    y: np array of label for each frame (1 or 0)\n",
        "    '''\n",
        "    ##################################\n",
        "    ###Still need to do the overlap###!!!\n",
        "    ##################################\n",
        "    \n",
        "    Fs = 128.0   #sampling rate\n",
        "    frame_length = Fs * frame_duration\n",
        "    \n",
        "    print('Generating training data...')\n",
        "    \n",
        "    \n",
        "    for i, file in enumerate(file_names):\n",
        "        print ('Processing session: ',file, '. (',i+1,' of ',len(file_names),')')\n",
        "        data = genfromtxt(file, delimiter=',').T\n",
        "        df = pd.DataFrame(data)\n",
        "        \n",
        "        X_0 = make_frames(df,frame_duration)\n",
        "        #steps = np.arange(0,len(df),frame_length)\n",
        "        X_1 = X_0.reshape(len(X_0),14*3)\n",
        "        \n",
        "        images = gen_images(np.array(locs_2d),X_1, image_size, normalize=False)\n",
        "        images = np.swapaxes(images, 1, 3) \n",
        "        print(len(images), ' frames generated with label ', labels[i], '.')\n",
        "        print('\\n')\n",
        "        if i == 0:\n",
        "            X = images\n",
        "            y = np.ones(len(images))*labels[0]\n",
        "        else:\n",
        "            X = np.concatenate((X,images),axis = 0)\n",
        "            y = np.concatenate((y,np.ones(len(images))*labels[i]),axis = 0)\n",
        "        \n",
        "        \n",
        "    return X,np.array(y)"
      ]
    },
    {
      "cell_type": "code",
      "execution_count": null,
      "metadata": {
        "colab": {
          "base_uri": "https://localhost:8080/"
        },
        "id": "6cKKqSOEPU9m",
        "outputId": "68c4c5b2-f307-4116-8388-d8a48dee1441",
        "scrolled": false
      },
      "outputs": [
        {
          "output_type": "stream",
          "name": "stdout",
          "text": [
            "Generating training data...\n",
            "Processing session:  data/ML101_KS.csv . ( 1  of  16 )\n",
            "234  frames generated with label  1 .\n",
            "\n",
            "\n",
            "Processing session:  data/ML101_US.csv . ( 2  of  16 )\n",
            "224  frames generated with label  0 .\n",
            "\n",
            "\n",
            "Processing session:  data/ML102_KS.csv . ( 3  of  16 )\n",
            "222  frames generated with label  1 .\n",
            "\n",
            "\n",
            "Processing session:  data/ML102_US.csv . ( 4  of  16 )\n",
            "218  frames generated with label  0 .\n",
            "\n",
            "\n",
            "Processing session:  data/ML103_KS.csv . ( 5  of  16 )\n",
            "226  frames generated with label  1 .\n",
            "\n",
            "\n",
            "Processing session:  data/ML103_US.csv . ( 6  of  16 )\n",
            "208  frames generated with label  0 .\n",
            "\n",
            "\n",
            "Processing session:  data/ML104_KS.csv . ( 7  of  16 )\n",
            "202  frames generated with label  1 .\n",
            "\n",
            "\n",
            "Processing session:  data/ML104_US.csv . ( 8  of  16 )\n",
            "204  frames generated with label  0 .\n",
            "\n",
            "\n",
            "Processing session:  data/ML105_KS.csv . ( 9  of  16 )\n",
            "214  frames generated with label  1 .\n",
            "\n",
            "\n",
            "Processing session:  data/ML105_US.csv . ( 10  of  16 )\n",
            "226  frames generated with label  0 .\n",
            "\n",
            "\n",
            "Processing session:  data/ML106_KS.csv . ( 11  of  16 )\n",
            "230  frames generated with label  1 .\n",
            "\n",
            "\n",
            "Processing session:  data/ML106_US.csv . ( 12  of  16 )\n",
            "278  frames generated with label  0 .\n",
            "\n",
            "\n",
            "Processing session:  data/ML107_KS.csv . ( 13  of  16 )\n",
            "246  frames generated with label  1 .\n",
            "\n",
            "\n",
            "Processing session:  data/ML107_US.csv . ( 14  of  16 )\n",
            "236  frames generated with label  0 .\n",
            "\n",
            "\n",
            "Processing session:  data/ML108_KS.csv . ( 15  of  16 )\n",
            "240  frames generated with label  1 .\n",
            "\n",
            "\n",
            "Processing session:  data/ML108_US.csv . ( 16  of  16 )\n",
            "234  frames generated with label  0 .\n",
            "\n",
            "\n"
          ]
        }
      ],
      "source": [
        "file_names = ['data/ML101_KS.csv',\n",
        "              'data/ML101_US.csv',\n",
        "              'data/ML102_KS.csv',\n",
        "              'data/ML102_US.csv',\n",
        "              'data/ML103_KS.csv',\n",
        "              'data/ML103_US.csv',\n",
        "              'data/ML104_KS.csv',\n",
        "              'data/ML104_US.csv',\n",
        "              'data/ML105_KS.csv',\n",
        "              'data/ML105_US.csv',\n",
        "              'data/ML106_KS.csv',\n",
        "              'data/ML106_US.csv',\n",
        "              'data/ML107_KS.csv',\n",
        "              'data/ML107_US.csv',\n",
        "              'data/ML108_KS.csv',\n",
        "              'data/ML108_US.csv']\n",
        "labels = [1,0,1,0,1,0,1,0,1,0,1,0,1,0,1,0]\n",
        "image_size = 28\n",
        "frame_duration = 1.0\n",
        "overlap = 0.5\n",
        "X, y = make_data_pipeline(file_names,labels,image_size,frame_duration,overlap)"
      ]
    },
    {
      "cell_type": "code",
      "execution_count": null,
      "metadata": {
        "colab": {
          "base_uri": "https://localhost:8080/"
        },
        "id": "w89ervz2PU9n",
        "outputId": "89f4f37a-d1e6-41b6-da42-2519348ef78e"
      },
      "outputs": [
        {
          "output_type": "execute_result",
          "data": {
            "text/plain": [
              "(3642, 28, 28, 3)"
            ]
          },
          "metadata": {},
          "execution_count": 18
        }
      ],
      "source": [
        "X.shape"
      ]
    },
    {
      "cell_type": "code",
      "execution_count": null,
      "metadata": {
        "colab": {
          "base_uri": "https://localhost:8080/"
        },
        "id": "0vz4PwSiPU9n",
        "outputId": "0ce4d39d-f9a0-468f-f956-54d55b6272bf"
      },
      "outputs": [
        {
          "output_type": "execute_result",
          "data": {
            "text/plain": [
              "(3642,)"
            ]
          },
          "metadata": {},
          "execution_count": 19
        }
      ],
      "source": [
        "y.shape"
      ]
    },
    {
      "cell_type": "code",
      "execution_count": null,
      "metadata": {
        "colab": {
          "base_uri": "https://localhost:8080/",
          "height": 283
        },
        "id": "hSPsDFLhPU9n",
        "outputId": "20365ad1-af24-4eed-cde6-0d62e5bd8adb"
      },
      "outputs": [
        {
          "output_type": "execute_result",
          "data": {
            "text/plain": [
              "<matplotlib.image.AxesImage at 0x7f792ed1cac0>"
            ]
          },
          "metadata": {},
          "execution_count": 20
        },
        {
          "output_type": "display_data",
          "data": {
            "text/plain": [
              "<Figure size 432x288 with 1 Axes>"
            ],
            "image/png": "[encoded data removed]"
          },
          "metadata": {
            "needs_background": "light"
          }
        }
      ],
      "source": [
        "import matplotlib.pyplot as plt\n",
        "%matplotlib inline\n",
        "#plt.imshow()\n",
        "plt.imshow((X[0] * 255).astype(np.uint8))"
      ]
    },
    {
      "cell_type": "code",
      "execution_count": null,
      "metadata": {
        "id": "3II97GTGQz1G"
      },
      "outputs": [],
      "source": [
        "from eeg_learn_functions import *\n"
      ]
    },
    {
      "cell_type": "code",
      "execution_count": null,
      "metadata": {
        "colab": {
          "base_uri": "https://localhost:8080/",
          "height": 17
        },
        "id": "3EhBHrQLQ21R",
        "outputId": "f51c2ef3-3c89-409d-eea6-510dda9e1ae8"
      },
      "outputs": [
        {
          "output_type": "display_data",
          "data": {
            "text/plain": [
              "<IPython.core.display.HTML object>"
            ],
            "text/html": [
              "<style>.container { width:100% !important; }</style>"
            ]
          },
          "metadata": {}
        }
      ],
      "source": [
        "import pandas as pd\n",
        "import numpy as np\n",
        "import matplotlib.pyplot as plt\n",
        "import seaborn as sns\n",
        "import scipy.stats as scs\n",
        "import re\n",
        "from numpy import genfromtxt\n",
        "\n",
        "%matplotlib inline\n",
        "plt.style.use('ggplot')\n",
        "from IPython.core.display import display, HTML\n",
        "display(HTML(\"<style>.container { width:100% !important; }</style>\"))\n",
        "plt.rcParams[\"figure.figsize\"] = (12,12)\n",
        "pd.options.display.max_columns = None\n",
        "pd.options.display.precision = 4\n"
      ]
    },
    {
      "cell_type": "code",
      "execution_count": null,
      "metadata": {
        "id": "yiSN7aonRCKW"
      },
      "outputs": [],
      "source": [
        "theta = (4,8)\n",
        "alpha = (8,12)\n",
        "beta = (12,40)\n"
      ]
    },
    {
      "cell_type": "code",
      "execution_count": null,
      "metadata": {
        "id": "qN1gQ2iCRGPy"
      },
      "outputs": [],
      "source": [
        "def get_fft(snippet):\n",
        "    Fs = 128.0;  # sampling rate\n",
        "    #Ts = len(snippet)/Fs/Fs; # sampling interval\n",
        "    snippet_time = len(snippet)/Fs\n",
        "    Ts = 1.0/Fs; # sampling interval\n",
        "    t = np.arange(0,snippet_time,Ts) # time vector\n",
        "\n",
        "    # ff = 5;   # frequency of the signal\n",
        "    # y = np.sin(2*np.pi*ff*t)\n",
        "    y = snippet\n",
        "#     print('Ts: ',Ts)\n",
        "#     print(t)\n",
        "#     print(y.shape)\n",
        "    n = len(y) # length of the signal\n",
        "    k = np.arange(n)\n",
        "    T = n/Fs\n",
        "    frq = k/T # two sides frequency range\n",
        "    frq = frq[range(n//2)] # one side frequency range\n",
        "\n",
        "    Y = np.fft.fft(y)/n # fft computing and normalization\n",
        "    Y = Y[range(n//2)]\n",
        "    #Added in: (To remove bias.)\n",
        "    #Y[0] = 0\n",
        "    return frq,abs(Y)\n",
        "#f,Y = get_fft(np.hanning(len(snippet))*snippet)"
      ]
    },
    {
      "cell_type": "code",
      "execution_count": null,
      "metadata": {
        "id": "9-6qCRxeRHPj"
      },
      "outputs": [],
      "source": [
        "def theta_alpha_beta_averages(f,Y):\n",
        "    theta_range = (4,8)\n",
        "    alpha_range = (8,12)\n",
        "    beta_range = (12,40)\n",
        "    theta = Y[(f>theta_range[0]) & (f<=theta_range[1])].mean()\n",
        "    alpha = Y[(f>alpha_range[0]) & (f<=alpha_range[1])].mean()\n",
        "    beta = Y[(f>beta_range[0]) & (f<=beta_range[1])].mean()\n",
        "    return theta, alpha, beta"
      ]
    },
    {
      "cell_type": "code",
      "execution_count": null,
      "metadata": {
        "id": "GE-VoW19RR7b"
      },
      "outputs": [],
      "source": [
        "def make_steps(samples,frame_duration,overlap):\n",
        "    '''\n",
        "    in:\n",
        "    samples - number of samples in the session\n",
        "    frame_duration - frame duration in seconds \n",
        "    overlap - float fraction of frame to overlap in range (0,1)\n",
        "    \n",
        "    out: list of tuple ranges\n",
        "    '''\n",
        "    #steps = np.arange(0,len(df),frame_length)\n",
        "    Fs = 128\n",
        "    i = 0\n",
        "    intervals = []\n",
        "    samples_per_frame = Fs * frame_duration\n",
        "    while i+samples_per_frame <= samples:\n",
        "        intervals.append((i,i+samples_per_frame))\n",
        "        i = i + samples_per_frame - int(samples_per_frame*overlap)\n",
        "    return intervals"
      ]
    },
    {
      "cell_type": "code",
      "execution_count": null,
      "metadata": {
        "id": "kcji_uGDRUbm"
      },
      "outputs": [],
      "source": [
        "def make_frames(df,frame_duration):\n",
        "    '''\n",
        "    in: dataframe or array with all channels, frame duration in seconds\n",
        "    out: array of theta, alpha, beta averages for each probe for each time step\n",
        "        shape: (n-frames,m-probes,k-brainwave bands)\n",
        "    '''\n",
        "    Fs = 128.0\n",
        "    frame_length = Fs*frame_duration\n",
        "    frames = []\n",
        "    steps = make_steps(len(df),frame_duration,overlap)\n",
        "    for i,_ in enumerate(steps):\n",
        "        frame = []\n",
        "        if i == 0:\n",
        "            continue\n",
        "        else:\n",
        "            for channel in df.columns:\n",
        "                snippet = np.array(df.loc[steps[i][0]:steps[i][1],int(channel)])\n",
        "                f,Y =  get_fft(snippet)\n",
        "                theta, alpha, beta = theta_alpha_beta_averages(f,Y)\n",
        "                frame.append([theta, alpha, beta])\n",
        "            \n",
        "        frames.append(frame)\n",
        "    return np.array(frames)"
      ]
    },
    {
      "cell_type": "code",
      "execution_count": null,
      "metadata": {
        "id": "48Z-hJjtRW3U"
      },
      "outputs": [],
      "source": [
        "locs_2d = [(-2.0,4.0),\n",
        "           (2.0,4.0),\n",
        "           (-1.0,3.0),\n",
        "           (1.0,3.0),\n",
        "           (-3.0,3.0),\n",
        "           (3.0,3.0),\n",
        "           (-2.0,2.0),\n",
        "           (2.0,2.0),\n",
        "           (-2.0,-2.0),\n",
        "           (2.0,-2.0),\n",
        "           (-4.0,1.0),\n",
        "           (4.0,1.0),\n",
        "           (-1.0,-3.0),\n",
        "           (1.0,-3.0)]"
      ]
    },
    {
      "cell_type": "code",
      "execution_count": null,
      "metadata": {
        "id": "wQuXUk92RX2W"
      },
      "outputs": [],
      "source": [
        "def make_data_pipeline(file_names,labels,image_size,frame_duration,overlap):\n",
        "    '''\n",
        "    IN: \n",
        "    file_names - list of strings for each input file (one for each subject)\n",
        "    labels - list of labels for each\n",
        "    image_size - int size of output images in form (x, x)\n",
        "    frame_duration - time length of each frame (seconds)\n",
        "    overlap - float fraction of frame to overlap in range (0,1)\n",
        "    \n",
        "    OUT:\n",
        "    X: np array of frames (unshuffled)\n",
        "    y: np array of label for each frame (1 or 0)\n",
        "    '''\n",
        "    ##################################\n",
        "    ###Still need to do the overlap###!!!\n",
        "    ##################################\n",
        "    \n",
        "    Fs = 128.0   #sampling rate\n",
        "    frame_length = Fs * frame_duration\n",
        "    \n",
        "    print('Generating training data...')\n",
        "    \n",
        "    \n",
        "    for i, file in enumerate(file_names):\n",
        "        print ('Processing session: ',file, '. (',i+1,' of ',len(file_names),')')\n",
        "        data = genfromtxt(file, delimiter=',').T\n",
        "        df = pd.DataFrame(data)\n",
        "        \n",
        "        X_0 = make_frames(df,frame_duration)\n",
        "        #steps = np.arange(0,len(df),frame_length)\n",
        "        X_1 = X_0.reshape(len(X_0),14*3)\n",
        "        \n",
        "        images = gen_images(np.array(locs_2d),X_1, image_size, normalize=False)\n",
        "        images = np.swapaxes(images, 1, 3) \n",
        "        print(len(images), ' frames generated with label ', labels[i], '.')\n",
        "        print('\\n')\n",
        "        if i == 0:\n",
        "            X = images\n",
        "            y = np.ones(len(images))*labels[0]\n",
        "        else:\n",
        "            X = np.concatenate((X,images),axis = 0)\n",
        "            y = np.concatenate((y,np.ones(len(images))*labels[i]),axis = 0)\n",
        "        \n",
        "        \n",
        "    return X,np.array(y)"
      ]
    },
    {
      "cell_type": "code",
      "execution_count": null,
      "metadata": {
        "colab": {
          "base_uri": "https://localhost:8080/"
        },
        "id": "06eK9ltcRa9T",
        "outputId": "8d28c1d4-eda4-46e6-9ce3-16297ee56804"
      },
      "outputs": [
        {
          "output_type": "stream",
          "name": "stdout",
          "text": [
            "Generating training data...\n",
            "Processing session:  data/ML101_KS.csv . ( 1  of  16 )\n",
            "234  frames generated with label  1 .\n",
            "\n",
            "\n",
            "Processing session:  data/ML101_US.csv . ( 2  of  16 )\n",
            "224  frames generated with label  0 .\n",
            "\n",
            "\n",
            "Processing session:  data/ML102_KS.csv . ( 3  of  16 )\n",
            "222  frames generated with label  1 .\n",
            "\n",
            "\n",
            "Processing session:  data/ML102_US.csv . ( 4  of  16 )\n",
            "218  frames generated with label  0 .\n",
            "\n",
            "\n",
            "Processing session:  data/ML103_KS.csv . ( 5  of  16 )\n",
            "226  frames generated with label  1 .\n",
            "\n",
            "\n",
            "Processing session:  data/ML103_US.csv . ( 6  of  16 )\n",
            "208  frames generated with label  0 .\n",
            "\n",
            "\n",
            "Processing session:  data/ML104_KS.csv . ( 7  of  16 )\n",
            "202  frames generated with label  1 .\n",
            "\n",
            "\n",
            "Processing session:  data/ML104_US.csv . ( 8  of  16 )\n",
            "204  frames generated with label  0 .\n",
            "\n",
            "\n",
            "Processing session:  data/ML105_KS.csv . ( 9  of  16 )\n",
            "214  frames generated with label  1 .\n",
            "\n",
            "\n",
            "Processing session:  data/ML105_US.csv . ( 10  of  16 )\n",
            "226  frames generated with label  0 .\n",
            "\n",
            "\n",
            "Processing session:  data/ML106_KS.csv . ( 11  of  16 )\n",
            "230  frames generated with label  1 .\n",
            "\n",
            "\n",
            "Processing session:  data/ML106_US.csv . ( 12  of  16 )\n",
            "278  frames generated with label  0 .\n",
            "\n",
            "\n",
            "Processing session:  data/ML107_KS.csv . ( 13  of  16 )\n",
            "246  frames generated with label  1 .\n",
            "\n",
            "\n",
            "Processing session:  data/ML107_US.csv . ( 14  of  16 )\n",
            "236  frames generated with label  0 .\n",
            "\n",
            "\n",
            "Processing session:  data/ML108_KS.csv . ( 15  of  16 )\n",
            "240  frames generated with label  1 .\n",
            "\n",
            "\n",
            "Processing session:  data/ML108_US.csv . ( 16  of  16 )\n",
            "234  frames generated with label  0 .\n",
            "\n",
            "\n"
          ]
        }
      ],
      "source": [
        "file_names = ['data/ML101_KS.csv',\n",
        "              'data/ML101_US.csv',\n",
        "              'data/ML102_KS.csv',\n",
        "              'data/ML102_US.csv',\n",
        "              'data/ML103_KS.csv',\n",
        "              'data/ML103_US.csv',\n",
        "              'data/ML104_KS.csv',\n",
        "              'data/ML104_US.csv',\n",
        "              'data/ML105_KS.csv',\n",
        "              'data/ML105_US.csv',\n",
        "              'data/ML106_KS.csv',\n",
        "              'data/ML106_US.csv',\n",
        "              'data/ML107_KS.csv',\n",
        "              'data/ML107_US.csv',\n",
        "              'data/ML108_KS.csv',\n",
        "              'data/ML108_US.csv']\n",
        "labels = [1,0,1,0,1,0,1,0,1,0,1,0,1,0,1,0]\n",
        "image_size = 28\n",
        "frame_duration = 1.0\n",
        "overlap = 0.5\n",
        "X, y = make_data_pipeline(file_names,labels,image_size,frame_duration,overlap)"
      ]
    },
    {
      "cell_type": "code",
      "execution_count": null,
      "metadata": {
        "colab": {
          "base_uri": "https://localhost:8080/"
        },
        "id": "OZHD2fwSRrS5",
        "outputId": "e4d07bf3-82aa-4eb3-fe25-3eb3a8a372e3"
      },
      "outputs": [
        {
          "output_type": "execute_result",
          "data": {
            "text/plain": [
              "(3642, 28, 28, 3)"
            ]
          },
          "metadata": {},
          "execution_count": 31
        }
      ],
      "source": [
        "X.shape\n"
      ]
    },
    {
      "cell_type": "code",
      "execution_count": null,
      "metadata": {
        "colab": {
          "base_uri": "https://localhost:8080/"
        },
        "id": "YgciVW2cRsgC",
        "outputId": "b0a2fa5a-9428-4501-cc32-b50fbb6ffdc8"
      },
      "outputs": [
        {
          "output_type": "execute_result",
          "data": {
            "text/plain": [
              "(3642,)"
            ]
          },
          "metadata": {},
          "execution_count": 32
        }
      ],
      "source": [
        "y.shape"
      ]
    },
    {
      "cell_type": "code",
      "execution_count": null,
      "metadata": {
        "colab": {
          "base_uri": "https://localhost:8080/",
          "height": 283
        },
        "id": "-PoWqUg7RudQ",
        "outputId": "d3cd1de8-23fd-4b5c-e1a5-70f2071ac10b"
      },
      "outputs": [
        {
          "output_type": "execute_result",
          "data": {
            "text/plain": [
              "<matplotlib.image.AxesImage at 0x7f79303d0a00>"
            ]
          },
          "metadata": {},
          "execution_count": 33
        },
        {
          "output_type": "display_data",
          "data": {
            "text/plain": [
              "<Figure size 432x288 with 1 Axes>"
            ],
            "image/png": "[encoded data removed]"
          },
          "metadata": {
            "needs_background": "light"
          }
        }
      ],
      "source": [
        "import matplotlib.pyplot as plt\n",
        "%matplotlib inline\n",
        "#plt.imshow()\n",
        "plt.imshow((X[0] * 255).astype(np.uint8))"
      ]
    },
    {
      "cell_type": "code",
      "execution_count": null,
      "metadata": {
        "id": "ze7HC-KpRyPc"
      },
      "outputs": [],
      "source": [
        "from sklearn.model_selection import train_test_split\n",
        "x_train, x_test, y_train, y_test = train_test_split(X, y, test_size=0.20,shuffle=True)"
      ]
    },
    {
      "cell_type": "code",
      "execution_count": null,
      "metadata": {
        "colab": {
          "base_uri": "https://localhost:8080/"
        },
        "id": "aznr5RzoRzOe",
        "outputId": "7efcb0e5-5e6f-463f-8583-a230bcbeb42f"
      },
      "outputs": [
        {
          "output_type": "execute_result",
          "data": {
            "text/plain": [
              "(2913,)"
            ]
          },
          "metadata": {},
          "execution_count": 35
        }
      ],
      "source": [
        "y_train.shape"
      ]
    },
    {
      "cell_type": "code",
      "execution_count": null,
      "metadata": {
        "colab": {
          "base_uri": "https://localhost:8080/"
        },
        "id": "5cwy26WbR1kd",
        "outputId": "2cdef89e-4666-44fc-8b13-b0f104b1467a"
      },
      "outputs": [
        {
          "output_type": "execute_result",
          "data": {
            "text/plain": [
              "(2913, 28, 28, 3)"
            ]
          },
          "metadata": {},
          "execution_count": 36
        }
      ],
      "source": [
        "x_train.shape"
      ]
    },
    {
      "cell_type": "code",
      "execution_count": null,
      "metadata": {
        "colab": {
          "base_uri": "https://localhost:8080/"
        },
        "id": "02wsAmR-R3tL",
        "outputId": "3f1cb076-d521-4b57-f283-8ac644bdd32d"
      },
      "outputs": [
        {
          "output_type": "stream",
          "name": "stdout",
          "text": [
            "x_train shape: (2913, 28, 28, 3)\n",
            "2913 train samples\n",
            "729 test samples\n"
          ]
        }
      ],
      "source": [
        "# input image dimensions\n",
        "img_rows, img_cols = 28, 28\n",
        "\n",
        "x_train = x_train.astype('float32')\n",
        "x_test = x_test.astype('float32')\n",
        "#x_train /= 255\n",
        "#x_test /= 255\n",
        "print('x_train shape:', x_train.shape)\n",
        "print(x_train.shape[0], 'train samples')\n",
        "print(x_test.shape[0], 'test samples')\n",
        "\n",
        "input_shape = (img_rows, img_cols, 3)"
      ]
    },
    {
      "cell_type": "code",
      "execution_count": null,
      "metadata": {
        "colab": {
          "base_uri": "https://localhost:8080/"
        },
        "id": "FBfxGN8xR9zk",
        "outputId": "6ad76f78-6d3e-4fab-f8db-2ed5631d6811"
      },
      "outputs": [
        {
          "output_type": "execute_result",
          "data": {
            "text/plain": [
              "1.7340571"
            ]
          },
          "metadata": {},
          "execution_count": 38
        }
      ],
      "source": [
        "np.mean(x_train)"
      ]
    },
    {
      "cell_type": "code",
      "execution_count": null,
      "metadata": {
        "id": "ZDUQqqebSCCr"
      },
      "outputs": [],
      "source": [
        "from tensorflow import keras \n",
        "from tensorflow.keras import Sequential\n",
        "from tensorflow.keras.layers import Conv2D, Flatten, Dense\n",
        "#from keras.models import Sequential\n",
        "from tensorflow.keras.layers import Dense, Dropout, Activation, Flatten\n",
        "from tensorflow.keras.layers import Conv2D, MaxPooling2D"
      ]
    },
    {
      "cell_type": "code",
      "execution_count": null,
      "metadata": {
        "colab": {
          "base_uri": "https://localhost:8080/"
        },
        "id": "mGJ29qcVSESK",
        "outputId": "aeed3710-7e0e-49cd-8abe-b0c45e660bb4"
      },
      "outputs": [
        {
          "output_type": "stream",
          "name": "stderr",
          "text": [
            "/usr/local/lib/python3.8/dist-packages/keras/optimizers/optimizer_v2/rmsprop.py:135: UserWarning: The `lr` argument is deprecated, use `learning_rate` instead.\n",
            "  super(RMSprop, self).__init__(name, **kwargs)\n"
          ]
        },
        {
          "output_type": "stream",
          "name": "stdout",
          "text": [
            "Epoch 1/200\n",
            "92/92 [==============================] - 8s 80ms/step - loss: 0.6918 - accuracy: 0.5009 - val_loss: 0.7216 - val_accuracy: 0.4897\n",
            "Epoch 2/200\n",
            "92/92 [==============================] - 7s 72ms/step - loss: 0.6872 - accuracy: 0.5002 - val_loss: 0.6910 - val_accuracy: 0.4897\n",
            "Epoch 3/200\n",
            "92/92 [==============================] - 9s 97ms/step - loss: 0.6839 - accuracy: 0.5173 - val_loss: 0.6863 - val_accuracy: 0.5048\n",
            "Epoch 4/200\n",
            "92/92 [==============================] - 9s 96ms/step - loss: 0.6807 - accuracy: 0.5266 - val_loss: 0.6994 - val_accuracy: 0.4856\n",
            "Epoch 5/200\n",
            "92/92 [==============================] - 7s 72ms/step - loss: 0.6757 - accuracy: 0.5379 - val_loss: 0.6803 - val_accuracy: 0.4966\n",
            "Epoch 6/200\n",
            "92/92 [==============================] - 7s 72ms/step - loss: 0.6709 - accuracy: 0.5517 - val_loss: 0.6828 - val_accuracy: 0.5967\n",
            "Epoch 7/200\n",
            "92/92 [==============================] - 7s 73ms/step - loss: 0.6672 - accuracy: 0.5709 - val_loss: 0.6765 - val_accuracy: 0.5761\n",
            "Epoch 8/200\n",
            "92/92 [==============================] - 7s 73ms/step - loss: 0.6630 - accuracy: 0.5685 - val_loss: 0.6731 - val_accuracy: 0.5364\n",
            "Epoch 9/200\n",
            "92/92 [==============================] - 7s 72ms/step - loss: 0.6597 - accuracy: 0.5850 - val_loss: 0.6670 - val_accuracy: 0.5583\n",
            "Epoch 10/200\n",
            "92/92 [==============================] - 7s 72ms/step - loss: 0.6571 - accuracy: 0.5836 - val_loss: 0.6677 - val_accuracy: 0.6228\n",
            "Epoch 11/200\n",
            "92/92 [==============================] - 7s 72ms/step - loss: 0.6541 - accuracy: 0.5987 - val_loss: 0.6926 - val_accuracy: 0.5844\n",
            "Epoch 12/200\n",
            "92/92 [==============================] - 7s 75ms/step - loss: 0.6506 - accuracy: 0.6042 - val_loss: 0.6561 - val_accuracy: 0.6091\n",
            "Epoch 13/200\n",
            "92/92 [==============================] - 7s 74ms/step - loss: 0.6448 - accuracy: 0.6018 - val_loss: 0.7130 - val_accuracy: 0.5844\n",
            "Epoch 14/200\n",
            "92/92 [==============================] - 7s 72ms/step - loss: 0.6440 - accuracy: 0.6124 - val_loss: 0.6773 - val_accuracy: 0.6063\n",
            "Epoch 15/200\n",
            "92/92 [==============================] - 7s 73ms/step - loss: 0.6387 - accuracy: 0.6282 - val_loss: 0.6431 - val_accuracy: 0.6379\n",
            "Epoch 16/200\n",
            "92/92 [==============================] - 7s 73ms/step - loss: 0.6300 - accuracy: 0.6313 - val_loss: 0.6340 - val_accuracy: 0.6351\n",
            "Epoch 17/200\n",
            "92/92 [==============================] - 7s 72ms/step - loss: 0.6250 - accuracy: 0.6395 - val_loss: 0.6549 - val_accuracy: 0.6049\n",
            "Epoch 18/200\n",
            "92/92 [==============================] - 7s 73ms/step - loss: 0.6208 - accuracy: 0.6464 - val_loss: 0.6306 - val_accuracy: 0.6241\n",
            "Epoch 19/200\n",
            "92/92 [==============================] - 7s 72ms/step - loss: 0.6175 - accuracy: 0.6529 - val_loss: 0.6247 - val_accuracy: 0.6296\n",
            "Epoch 20/200\n",
            "92/92 [==============================] - 7s 71ms/step - loss: 0.6117 - accuracy: 0.6457 - val_loss: 0.6830 - val_accuracy: 0.5761\n",
            "Epoch 21/200\n",
            "92/92 [==============================] - 7s 73ms/step - loss: 0.6085 - accuracy: 0.6577 - val_loss: 0.6159 - val_accuracy: 0.6433\n",
            "Epoch 22/200\n",
            "92/92 [==============================] - 7s 72ms/step - loss: 0.6032 - accuracy: 0.6612 - val_loss: 0.6133 - val_accuracy: 0.6392\n",
            "Epoch 23/200\n",
            "92/92 [==============================] - 7s 73ms/step - loss: 0.6027 - accuracy: 0.6704 - val_loss: 0.6188 - val_accuracy: 0.6228\n",
            "Epoch 24/200\n",
            "92/92 [==============================] - 7s 72ms/step - loss: 0.5997 - accuracy: 0.6605 - val_loss: 0.6768 - val_accuracy: 0.6063\n",
            "Epoch 25/200\n",
            "92/92 [==============================] - 7s 73ms/step - loss: 0.5907 - accuracy: 0.6677 - val_loss: 0.7544 - val_accuracy: 0.5377\n",
            "Epoch 26/200\n",
            "92/92 [==============================] - 7s 73ms/step - loss: 0.5970 - accuracy: 0.6752 - val_loss: 0.6212 - val_accuracy: 0.6324\n",
            "Epoch 27/200\n",
            "92/92 [==============================] - 7s 73ms/step - loss: 0.5880 - accuracy: 0.6650 - val_loss: 0.6314 - val_accuracy: 0.6337\n",
            "Epoch 28/200\n",
            "92/92 [==============================] - 7s 72ms/step - loss: 0.5874 - accuracy: 0.6752 - val_loss: 0.6118 - val_accuracy: 0.6406\n",
            "Epoch 29/200\n",
            "92/92 [==============================] - 7s 72ms/step - loss: 0.5831 - accuracy: 0.6849 - val_loss: 0.6045 - val_accuracy: 0.6529\n",
            "Epoch 30/200\n",
            "92/92 [==============================] - 7s 72ms/step - loss: 0.5786 - accuracy: 0.6773 - val_loss: 0.6279 - val_accuracy: 0.6475\n",
            "Epoch 31/200\n",
            "92/92 [==============================] - 7s 72ms/step - loss: 0.5783 - accuracy: 0.6862 - val_loss: 0.6086 - val_accuracy: 0.6543\n",
            "Epoch 32/200\n",
            "92/92 [==============================] - 7s 73ms/step - loss: 0.5739 - accuracy: 0.6842 - val_loss: 0.7616 - val_accuracy: 0.5912\n",
            "Epoch 33/200\n",
            "92/92 [==============================] - 7s 75ms/step - loss: 0.5726 - accuracy: 0.6941 - val_loss: 0.6034 - val_accuracy: 0.6269\n",
            "Epoch 34/200\n",
            "92/92 [==============================] - 7s 74ms/step - loss: 0.5663 - accuracy: 0.6897 - val_loss: 0.6097 - val_accuracy: 0.6351\n",
            "Epoch 35/200\n",
            "92/92 [==============================] - 7s 73ms/step - loss: 0.5623 - accuracy: 0.6948 - val_loss: 0.5883 - val_accuracy: 0.6735\n",
            "Epoch 36/200\n",
            "92/92 [==============================] - 7s 73ms/step - loss: 0.5567 - accuracy: 0.6945 - val_loss: 0.6080 - val_accuracy: 0.6680\n",
            "Epoch 37/200\n",
            "92/92 [==============================] - 7s 72ms/step - loss: 0.5595 - accuracy: 0.7003 - val_loss: 0.5921 - val_accuracy: 0.6776\n",
            "Epoch 38/200\n",
            "92/92 [==============================] - 7s 72ms/step - loss: 0.5552 - accuracy: 0.7113 - val_loss: 0.5945 - val_accuracy: 0.6735\n",
            "Epoch 39/200\n",
            "92/92 [==============================] - 7s 72ms/step - loss: 0.5506 - accuracy: 0.7106 - val_loss: 0.6423 - val_accuracy: 0.6310\n",
            "Epoch 40/200\n",
            "92/92 [==============================] - 11s 120ms/step - loss: 0.5526 - accuracy: 0.7113 - val_loss: 0.6253 - val_accuracy: 0.6571\n",
            "Epoch 41/200\n",
            "92/92 [==============================] - 7s 72ms/step - loss: 0.5471 - accuracy: 0.7123 - val_loss: 0.6066 - val_accuracy: 0.6680\n",
            "Epoch 42/200\n",
            "92/92 [==============================] - 7s 72ms/step - loss: 0.5436 - accuracy: 0.7168 - val_loss: 0.6365 - val_accuracy: 0.6612\n",
            "Epoch 43/200\n",
            "92/92 [==============================] - 7s 73ms/step - loss: 0.5428 - accuracy: 0.7178 - val_loss: 0.6055 - val_accuracy: 0.6447\n",
            "Epoch 44/200\n",
            "92/92 [==============================] - 7s 72ms/step - loss: 0.5376 - accuracy: 0.7206 - val_loss: 0.6131 - val_accuracy: 0.6447\n",
            "Epoch 45/200\n",
            "92/92 [==============================] - 7s 72ms/step - loss: 0.5334 - accuracy: 0.7209 - val_loss: 0.6169 - val_accuracy: 0.6529\n",
            "Epoch 46/200\n",
            "92/92 [==============================] - 7s 71ms/step - loss: 0.5380 - accuracy: 0.7199 - val_loss: 0.6103 - val_accuracy: 0.6543\n",
            "Epoch 47/200\n",
            "92/92 [==============================] - 7s 71ms/step - loss: 0.5392 - accuracy: 0.7278 - val_loss: 0.5854 - val_accuracy: 0.6598\n",
            "Epoch 48/200\n",
            "92/92 [==============================] - 7s 71ms/step - loss: 0.5275 - accuracy: 0.7212 - val_loss: 0.5896 - val_accuracy: 0.6612\n",
            "Epoch 49/200\n",
            "92/92 [==============================] - 7s 71ms/step - loss: 0.5238 - accuracy: 0.7364 - val_loss: 0.6004 - val_accuracy: 0.6653\n",
            "Epoch 50/200\n",
            "92/92 [==============================] - 7s 71ms/step - loss: 0.5256 - accuracy: 0.7329 - val_loss: 0.6264 - val_accuracy: 0.6557\n",
            "Epoch 51/200\n",
            "92/92 [==============================] - 8s 85ms/step - loss: 0.5195 - accuracy: 0.7364 - val_loss: 0.6313 - val_accuracy: 0.6433\n",
            "Epoch 52/200\n",
            "92/92 [==============================] - 7s 77ms/step - loss: 0.5232 - accuracy: 0.7333 - val_loss: 0.5719 - val_accuracy: 0.6872\n",
            "Epoch 53/200\n",
            "92/92 [==============================] - 7s 71ms/step - loss: 0.5150 - accuracy: 0.7394 - val_loss: 0.5976 - val_accuracy: 0.6968\n",
            "Epoch 54/200\n",
            "92/92 [==============================] - 7s 72ms/step - loss: 0.5176 - accuracy: 0.7343 - val_loss: 0.7044 - val_accuracy: 0.6379\n",
            "Epoch 55/200\n",
            "92/92 [==============================] - 7s 71ms/step - loss: 0.5164 - accuracy: 0.7401 - val_loss: 0.6123 - val_accuracy: 0.6900\n",
            "Epoch 56/200\n",
            "92/92 [==============================] - 7s 72ms/step - loss: 0.5153 - accuracy: 0.7401 - val_loss: 0.5860 - val_accuracy: 0.6749\n",
            "Epoch 57/200\n",
            "92/92 [==============================] - 7s 72ms/step - loss: 0.5095 - accuracy: 0.7491 - val_loss: 0.6116 - val_accuracy: 0.6612\n",
            "Epoch 58/200\n",
            "92/92 [==============================] - 7s 71ms/step - loss: 0.5120 - accuracy: 0.7439 - val_loss: 0.5773 - val_accuracy: 0.6749\n",
            "Epoch 59/200\n",
            "92/92 [==============================] - 7s 71ms/step - loss: 0.5027 - accuracy: 0.7456 - val_loss: 0.6419 - val_accuracy: 0.6749\n",
            "Epoch 60/200\n",
            "92/92 [==============================] - 7s 71ms/step - loss: 0.5021 - accuracy: 0.7408 - val_loss: 0.5973 - val_accuracy: 0.6845\n",
            "Epoch 61/200\n",
            "92/92 [==============================] - 7s 72ms/step - loss: 0.5029 - accuracy: 0.7422 - val_loss: 0.5848 - val_accuracy: 0.7037\n",
            "Epoch 62/200\n",
            "92/92 [==============================] - 7s 72ms/step - loss: 0.5021 - accuracy: 0.7463 - val_loss: 0.5667 - val_accuracy: 0.6982\n",
            "Epoch 63/200\n",
            "92/92 [==============================] - 7s 71ms/step - loss: 0.4986 - accuracy: 0.7439 - val_loss: 0.6149 - val_accuracy: 0.6680\n",
            "Epoch 64/200\n",
            "92/92 [==============================] - 7s 72ms/step - loss: 0.4960 - accuracy: 0.7497 - val_loss: 0.7104 - val_accuracy: 0.6639\n",
            "Epoch 65/200\n",
            "92/92 [==============================] - 7s 72ms/step - loss: 0.4983 - accuracy: 0.7484 - val_loss: 0.5892 - val_accuracy: 0.7064\n",
            "Epoch 66/200\n",
            "92/92 [==============================] - 7s 73ms/step - loss: 0.4938 - accuracy: 0.7559 - val_loss: 0.5663 - val_accuracy: 0.6914\n",
            "Epoch 67/200\n",
            "92/92 [==============================] - 7s 72ms/step - loss: 0.4920 - accuracy: 0.7480 - val_loss: 0.7119 - val_accuracy: 0.6639\n",
            "Epoch 68/200\n",
            "92/92 [==============================] - 7s 72ms/step - loss: 0.4899 - accuracy: 0.7638 - val_loss: 0.5910 - val_accuracy: 0.6749\n",
            "Epoch 69/200\n",
            "92/92 [==============================] - 7s 72ms/step - loss: 0.4818 - accuracy: 0.7583 - val_loss: 0.6835 - val_accuracy: 0.6461\n",
            "Epoch 70/200\n",
            "92/92 [==============================] - 7s 73ms/step - loss: 0.4896 - accuracy: 0.7638 - val_loss: 0.6734 - val_accuracy: 0.6475\n",
            "Epoch 71/200\n",
            "92/92 [==============================] - 7s 72ms/step - loss: 0.4908 - accuracy: 0.7552 - val_loss: 0.5626 - val_accuracy: 0.7078\n",
            "Epoch 72/200\n",
            "92/92 [==============================] - 7s 72ms/step - loss: 0.4806 - accuracy: 0.7645 - val_loss: 0.6235 - val_accuracy: 0.6859\n",
            "Epoch 73/200\n",
            "92/92 [==============================] - 7s 72ms/step - loss: 0.4818 - accuracy: 0.7673 - val_loss: 0.5560 - val_accuracy: 0.7106\n",
            "Epoch 74/200\n",
            "92/92 [==============================] - 7s 72ms/step - loss: 0.4832 - accuracy: 0.7631 - val_loss: 0.5864 - val_accuracy: 0.7215\n",
            "Epoch 75/200\n",
            "92/92 [==============================] - 7s 73ms/step - loss: 0.4746 - accuracy: 0.7611 - val_loss: 0.6254 - val_accuracy: 0.6475\n",
            "Epoch 76/200\n",
            "92/92 [==============================] - 11s 122ms/step - loss: 0.4739 - accuracy: 0.7679 - val_loss: 0.6544 - val_accuracy: 0.6612\n",
            "Epoch 77/200\n",
            "92/92 [==============================] - 7s 72ms/step - loss: 0.4718 - accuracy: 0.7714 - val_loss: 0.5576 - val_accuracy: 0.7119\n",
            "Epoch 78/200\n",
            "92/92 [==============================] - 7s 72ms/step - loss: 0.4746 - accuracy: 0.7669 - val_loss: 0.6203 - val_accuracy: 0.6831\n",
            "Epoch 79/200\n",
            "92/92 [==============================] - 7s 72ms/step - loss: 0.4661 - accuracy: 0.7734 - val_loss: 0.5695 - val_accuracy: 0.7092\n",
            "Epoch 80/200\n",
            "92/92 [==============================] - 7s 72ms/step - loss: 0.4705 - accuracy: 0.7673 - val_loss: 0.5668 - val_accuracy: 0.7202\n",
            "Epoch 81/200\n",
            "92/92 [==============================] - 7s 73ms/step - loss: 0.4651 - accuracy: 0.7775 - val_loss: 0.6632 - val_accuracy: 0.6982\n",
            "Epoch 82/200\n",
            "92/92 [==============================] - 7s 72ms/step - loss: 0.4665 - accuracy: 0.7727 - val_loss: 0.5736 - val_accuracy: 0.7174\n",
            "Epoch 83/200\n",
            "92/92 [==============================] - 7s 72ms/step - loss: 0.4667 - accuracy: 0.7765 - val_loss: 0.5621 - val_accuracy: 0.6996\n",
            "Epoch 84/200\n",
            "92/92 [==============================] - 7s 73ms/step - loss: 0.4585 - accuracy: 0.7789 - val_loss: 0.6145 - val_accuracy: 0.6859\n",
            "Epoch 85/200\n",
            "92/92 [==============================] - 7s 71ms/step - loss: 0.4581 - accuracy: 0.7789 - val_loss: 0.5587 - val_accuracy: 0.7037\n",
            "Epoch 86/200\n",
            "92/92 [==============================] - 7s 72ms/step - loss: 0.4567 - accuracy: 0.7803 - val_loss: 0.5448 - val_accuracy: 0.7215\n",
            "Epoch 87/200\n",
            "92/92 [==============================] - 7s 72ms/step - loss: 0.4535 - accuracy: 0.7820 - val_loss: 0.5793 - val_accuracy: 0.7092\n",
            "Epoch 88/200\n",
            "92/92 [==============================] - 7s 73ms/step - loss: 0.4567 - accuracy: 0.7782 - val_loss: 0.5608 - val_accuracy: 0.7106\n",
            "Epoch 89/200\n",
            "92/92 [==============================] - 7s 73ms/step - loss: 0.4552 - accuracy: 0.7844 - val_loss: 0.6108 - val_accuracy: 0.6790\n",
            "Epoch 90/200\n",
            "92/92 [==============================] - 7s 72ms/step - loss: 0.4497 - accuracy: 0.7841 - val_loss: 0.5720 - val_accuracy: 0.6900\n",
            "Epoch 91/200\n",
            "92/92 [==============================] - 7s 72ms/step - loss: 0.4562 - accuracy: 0.7837 - val_loss: 0.5490 - val_accuracy: 0.7284\n",
            "Epoch 92/200\n",
            "92/92 [==============================] - 7s 72ms/step - loss: 0.4475 - accuracy: 0.7903 - val_loss: 0.6475 - val_accuracy: 0.6667\n",
            "Epoch 93/200\n",
            "92/92 [==============================] - 7s 72ms/step - loss: 0.4479 - accuracy: 0.7868 - val_loss: 0.6087 - val_accuracy: 0.6872\n",
            "Epoch 94/200\n",
            "92/92 [==============================] - 7s 72ms/step - loss: 0.4448 - accuracy: 0.7903 - val_loss: 0.5665 - val_accuracy: 0.7298\n",
            "Epoch 95/200\n",
            "92/92 [==============================] - 7s 72ms/step - loss: 0.4415 - accuracy: 0.7903 - val_loss: 0.6095 - val_accuracy: 0.7188\n",
            "Epoch 96/200\n",
            "92/92 [==============================] - 7s 72ms/step - loss: 0.4452 - accuracy: 0.7861 - val_loss: 0.6654 - val_accuracy: 0.6557\n",
            "Epoch 97/200\n",
            "92/92 [==============================] - 7s 72ms/step - loss: 0.4399 - accuracy: 0.7892 - val_loss: 0.5520 - val_accuracy: 0.7160\n",
            "Epoch 98/200\n",
            "92/92 [==============================] - 7s 72ms/step - loss: 0.4417 - accuracy: 0.7964 - val_loss: 0.6381 - val_accuracy: 0.6914\n",
            "Epoch 99/200\n",
            "92/92 [==============================] - 7s 72ms/step - loss: 0.4371 - accuracy: 0.7981 - val_loss: 0.6134 - val_accuracy: 0.6722\n",
            "Epoch 100/200\n",
            "92/92 [==============================] - 7s 72ms/step - loss: 0.4336 - accuracy: 0.7954 - val_loss: 0.6281 - val_accuracy: 0.7023\n",
            "Epoch 101/200\n",
            "92/92 [==============================] - 7s 72ms/step - loss: 0.4317 - accuracy: 0.8012 - val_loss: 0.6136 - val_accuracy: 0.6872\n",
            "Epoch 102/200\n",
            "92/92 [==============================] - 7s 72ms/step - loss: 0.4309 - accuracy: 0.7964 - val_loss: 0.5501 - val_accuracy: 0.7407\n",
            "Epoch 103/200\n",
            "92/92 [==============================] - 7s 73ms/step - loss: 0.4294 - accuracy: 0.7927 - val_loss: 0.6958 - val_accuracy: 0.6694\n",
            "Epoch 104/200\n",
            "92/92 [==============================] - 7s 74ms/step - loss: 0.4273 - accuracy: 0.7995 - val_loss: 0.5668 - val_accuracy: 0.7174\n",
            "Epoch 105/200\n",
            "92/92 [==============================] - 7s 72ms/step - loss: 0.4211 - accuracy: 0.8012 - val_loss: 0.5580 - val_accuracy: 0.7174\n",
            "Epoch 106/200\n",
            "92/92 [==============================] - 7s 72ms/step - loss: 0.4380 - accuracy: 0.7957 - val_loss: 0.5461 - val_accuracy: 0.7284\n",
            "Epoch 107/200\n",
            "92/92 [==============================] - 7s 73ms/step - loss: 0.4238 - accuracy: 0.8040 - val_loss: 0.6025 - val_accuracy: 0.6955\n",
            "Epoch 108/200\n",
            "92/92 [==============================] - 7s 72ms/step - loss: 0.4182 - accuracy: 0.7964 - val_loss: 0.5470 - val_accuracy: 0.7298\n",
            "Epoch 109/200\n",
            "92/92 [==============================] - 7s 73ms/step - loss: 0.4263 - accuracy: 0.8030 - val_loss: 0.5427 - val_accuracy: 0.7325\n",
            "Epoch 110/200\n",
            "92/92 [==============================] - 7s 73ms/step - loss: 0.4228 - accuracy: 0.8033 - val_loss: 0.5350 - val_accuracy: 0.7435\n",
            "Epoch 111/200\n",
            "92/92 [==============================] - 7s 73ms/step - loss: 0.4207 - accuracy: 0.8047 - val_loss: 0.7068 - val_accuracy: 0.6735\n",
            "Epoch 112/200\n",
            "92/92 [==============================] - 11s 122ms/step - loss: 0.4212 - accuracy: 0.8115 - val_loss: 0.5727 - val_accuracy: 0.7051\n",
            "Epoch 113/200\n",
            "92/92 [==============================] - 7s 73ms/step - loss: 0.4155 - accuracy: 0.8033 - val_loss: 0.5419 - val_accuracy: 0.7339\n",
            "Epoch 114/200\n",
            "92/92 [==============================] - 7s 73ms/step - loss: 0.4195 - accuracy: 0.8040 - val_loss: 0.5633 - val_accuracy: 0.7215\n",
            "Epoch 115/200\n",
            "92/92 [==============================] - 7s 73ms/step - loss: 0.4110 - accuracy: 0.8081 - val_loss: 0.5370 - val_accuracy: 0.7284\n",
            "Epoch 116/200\n",
            "92/92 [==============================] - 7s 73ms/step - loss: 0.4141 - accuracy: 0.8033 - val_loss: 0.5874 - val_accuracy: 0.7078\n",
            "Epoch 117/200\n",
            "92/92 [==============================] - 7s 73ms/step - loss: 0.4083 - accuracy: 0.8095 - val_loss: 0.7848 - val_accuracy: 0.6557\n",
            "Epoch 118/200\n",
            "92/92 [==============================] - 7s 74ms/step - loss: 0.4148 - accuracy: 0.8081 - val_loss: 0.8213 - val_accuracy: 0.6529\n",
            "Epoch 119/200\n",
            "92/92 [==============================] - 7s 75ms/step - loss: 0.4079 - accuracy: 0.8074 - val_loss: 0.5990 - val_accuracy: 0.7119\n",
            "Epoch 120/200\n",
            "92/92 [==============================] - 7s 75ms/step - loss: 0.4102 - accuracy: 0.8088 - val_loss: 0.6028 - val_accuracy: 0.7106\n",
            "Epoch 121/200\n",
            "92/92 [==============================] - 7s 72ms/step - loss: 0.4003 - accuracy: 0.8167 - val_loss: 0.6331 - val_accuracy: 0.7160\n",
            "Epoch 122/200\n",
            "92/92 [==============================] - 7s 73ms/step - loss: 0.3991 - accuracy: 0.8174 - val_loss: 0.5973 - val_accuracy: 0.7188\n",
            "Epoch 123/200\n",
            "92/92 [==============================] - 7s 73ms/step - loss: 0.4029 - accuracy: 0.8146 - val_loss: 0.6028 - val_accuracy: 0.7243\n",
            "Epoch 124/200\n",
            "92/92 [==============================] - 7s 73ms/step - loss: 0.3979 - accuracy: 0.8191 - val_loss: 0.5586 - val_accuracy: 0.7366\n",
            "Epoch 125/200\n",
            "92/92 [==============================] - 7s 73ms/step - loss: 0.4000 - accuracy: 0.8239 - val_loss: 0.7001 - val_accuracy: 0.6804\n",
            "Epoch 126/200\n",
            "92/92 [==============================] - 7s 73ms/step - loss: 0.4050 - accuracy: 0.8184 - val_loss: 0.5712 - val_accuracy: 0.7188\n",
            "Epoch 127/200\n",
            "92/92 [==============================] - 13s 141ms/step - loss: 0.3957 - accuracy: 0.8184 - val_loss: 0.6815 - val_accuracy: 0.6790\n",
            "Epoch 128/200\n",
            "92/92 [==============================] - 9s 98ms/step - loss: 0.4029 - accuracy: 0.8143 - val_loss: 0.5924 - val_accuracy: 0.7023\n",
            "Epoch 129/200\n",
            "92/92 [==============================] - 7s 72ms/step - loss: 0.3950 - accuracy: 0.8198 - val_loss: 0.5869 - val_accuracy: 0.7160\n",
            "Epoch 130/200\n",
            "92/92 [==============================] - 7s 73ms/step - loss: 0.3943 - accuracy: 0.8198 - val_loss: 0.5479 - val_accuracy: 0.7325\n",
            "Epoch 131/200\n",
            "92/92 [==============================] - 7s 73ms/step - loss: 0.3930 - accuracy: 0.8153 - val_loss: 0.5852 - val_accuracy: 0.7284\n",
            "Epoch 132/200\n",
            "92/92 [==============================] - 7s 73ms/step - loss: 0.3879 - accuracy: 0.8242 - val_loss: 0.6902 - val_accuracy: 0.6872\n",
            "Epoch 133/200\n",
            "92/92 [==============================] - 7s 73ms/step - loss: 0.3973 - accuracy: 0.8139 - val_loss: 0.5745 - val_accuracy: 0.7202\n",
            "Epoch 134/200\n",
            "92/92 [==============================] - 7s 72ms/step - loss: 0.3916 - accuracy: 0.8198 - val_loss: 0.5226 - val_accuracy: 0.7421\n",
            "Epoch 135/200\n",
            "92/92 [==============================] - 7s 74ms/step - loss: 0.3841 - accuracy: 0.8253 - val_loss: 0.5365 - val_accuracy: 0.7229\n",
            "Epoch 136/200\n",
            "92/92 [==============================] - 7s 73ms/step - loss: 0.3848 - accuracy: 0.8273 - val_loss: 0.5822 - val_accuracy: 0.7051\n",
            "Epoch 137/200\n",
            "92/92 [==============================] - 7s 73ms/step - loss: 0.3851 - accuracy: 0.8211 - val_loss: 0.5351 - val_accuracy: 0.7380\n",
            "Epoch 138/200\n",
            "92/92 [==============================] - 7s 73ms/step - loss: 0.3808 - accuracy: 0.8273 - val_loss: 0.5504 - val_accuracy: 0.7243\n",
            "Epoch 139/200\n",
            "92/92 [==============================] - 7s 73ms/step - loss: 0.3789 - accuracy: 0.8294 - val_loss: 0.5619 - val_accuracy: 0.7339\n",
            "Epoch 140/200\n",
            "92/92 [==============================] - 8s 87ms/step - loss: 0.3804 - accuracy: 0.8256 - val_loss: 0.5658 - val_accuracy: 0.7298\n",
            "Epoch 141/200\n",
            "92/92 [==============================] - 7s 73ms/step - loss: 0.3826 - accuracy: 0.8277 - val_loss: 0.6344 - val_accuracy: 0.7147\n",
            "Epoch 142/200\n",
            "92/92 [==============================] - 7s 73ms/step - loss: 0.3834 - accuracy: 0.8325 - val_loss: 0.5547 - val_accuracy: 0.7325\n",
            "Epoch 143/200\n",
            "92/92 [==============================] - 7s 73ms/step - loss: 0.3813 - accuracy: 0.8270 - val_loss: 0.5555 - val_accuracy: 0.7311\n",
            "Epoch 144/200\n",
            "92/92 [==============================] - 7s 74ms/step - loss: 0.3805 - accuracy: 0.8321 - val_loss: 0.5313 - val_accuracy: 0.7476\n",
            "Epoch 145/200\n",
            "92/92 [==============================] - 7s 73ms/step - loss: 0.3713 - accuracy: 0.8321 - val_loss: 0.6725 - val_accuracy: 0.6955\n",
            "Epoch 146/200\n",
            "92/92 [==============================] - 11s 120ms/step - loss: 0.3772 - accuracy: 0.8332 - val_loss: 0.6352 - val_accuracy: 0.6831\n",
            "Epoch 147/200\n",
            "92/92 [==============================] - 7s 73ms/step - loss: 0.3672 - accuracy: 0.8376 - val_loss: 0.6316 - val_accuracy: 0.6914\n",
            "Epoch 148/200\n",
            "92/92 [==============================] - 7s 73ms/step - loss: 0.3768 - accuracy: 0.8270 - val_loss: 0.6661 - val_accuracy: 0.6859\n",
            "Epoch 149/200\n",
            "92/92 [==============================] - 7s 73ms/step - loss: 0.3652 - accuracy: 0.8387 - val_loss: 0.5581 - val_accuracy: 0.7394\n",
            "Epoch 150/200\n",
            "92/92 [==============================] - 7s 72ms/step - loss: 0.3675 - accuracy: 0.8380 - val_loss: 0.5586 - val_accuracy: 0.7202\n",
            "Epoch 151/200\n",
            "92/92 [==============================] - 7s 72ms/step - loss: 0.3636 - accuracy: 0.8359 - val_loss: 0.7019 - val_accuracy: 0.6886\n",
            "Epoch 152/200\n",
            "92/92 [==============================] - 7s 72ms/step - loss: 0.3644 - accuracy: 0.8373 - val_loss: 0.7200 - val_accuracy: 0.6859\n",
            "Epoch 153/200\n",
            "92/92 [==============================] - 7s 72ms/step - loss: 0.3695 - accuracy: 0.8335 - val_loss: 0.5220 - val_accuracy: 0.7517\n",
            "Epoch 154/200\n",
            "92/92 [==============================] - 7s 72ms/step - loss: 0.3672 - accuracy: 0.8373 - val_loss: 0.6196 - val_accuracy: 0.7160\n",
            "Epoch 155/200\n",
            "92/92 [==============================] - 7s 73ms/step - loss: 0.3649 - accuracy: 0.8445 - val_loss: 0.5830 - val_accuracy: 0.7229\n",
            "Epoch 156/200\n",
            "92/92 [==============================] - 7s 72ms/step - loss: 0.3584 - accuracy: 0.8452 - val_loss: 0.5671 - val_accuracy: 0.7407\n",
            "Epoch 157/200\n",
            "92/92 [==============================] - 7s 74ms/step - loss: 0.3656 - accuracy: 0.8465 - val_loss: 0.5819 - val_accuracy: 0.7229\n",
            "Epoch 158/200\n",
            "92/92 [==============================] - 7s 74ms/step - loss: 0.3646 - accuracy: 0.8311 - val_loss: 0.5366 - val_accuracy: 0.7366\n",
            "Epoch 159/200\n",
            "92/92 [==============================] - 7s 73ms/step - loss: 0.3629 - accuracy: 0.8393 - val_loss: 0.5296 - val_accuracy: 0.7366\n",
            "Epoch 160/200\n",
            "92/92 [==============================] - 7s 73ms/step - loss: 0.3582 - accuracy: 0.8462 - val_loss: 0.5207 - val_accuracy: 0.7599\n",
            "Epoch 161/200\n",
            "92/92 [==============================] - 7s 73ms/step - loss: 0.3512 - accuracy: 0.8421 - val_loss: 0.5572 - val_accuracy: 0.7421\n",
            "Epoch 162/200\n",
            "92/92 [==============================] - 7s 73ms/step - loss: 0.3565 - accuracy: 0.8393 - val_loss: 0.5674 - val_accuracy: 0.7243\n",
            "Epoch 163/200\n",
            "92/92 [==============================] - 7s 73ms/step - loss: 0.3551 - accuracy: 0.8459 - val_loss: 0.6488 - val_accuracy: 0.7188\n",
            "Epoch 164/200\n",
            "92/92 [==============================] - 7s 73ms/step - loss: 0.3559 - accuracy: 0.8407 - val_loss: 0.5419 - val_accuracy: 0.7449\n",
            "Epoch 165/200\n",
            "92/92 [==============================] - 7s 74ms/step - loss: 0.3495 - accuracy: 0.8486 - val_loss: 0.5921 - val_accuracy: 0.7257\n",
            "Epoch 166/200\n",
            "92/92 [==============================] - 7s 74ms/step - loss: 0.3477 - accuracy: 0.8500 - val_loss: 0.6655 - val_accuracy: 0.7023\n",
            "Epoch 167/200\n",
            "92/92 [==============================] - 7s 75ms/step - loss: 0.3509 - accuracy: 0.8421 - val_loss: 0.5784 - val_accuracy: 0.7339\n",
            "Epoch 168/200\n",
            "92/92 [==============================] - 7s 76ms/step - loss: 0.3466 - accuracy: 0.8514 - val_loss: 0.5993 - val_accuracy: 0.7325\n",
            "Epoch 169/200\n",
            "92/92 [==============================] - 7s 75ms/step - loss: 0.3504 - accuracy: 0.8472 - val_loss: 0.5511 - val_accuracy: 0.7284\n",
            "Epoch 170/200\n",
            "92/92 [==============================] - 7s 74ms/step - loss: 0.3528 - accuracy: 0.8441 - val_loss: 0.5579 - val_accuracy: 0.7435\n",
            "Epoch 171/200\n",
            "92/92 [==============================] - 7s 73ms/step - loss: 0.3400 - accuracy: 0.8496 - val_loss: 0.5656 - val_accuracy: 0.7325\n",
            "Epoch 172/200\n",
            "92/92 [==============================] - 7s 74ms/step - loss: 0.3392 - accuracy: 0.8452 - val_loss: 0.5554 - val_accuracy: 0.7380\n",
            "Epoch 173/200\n",
            "92/92 [==============================] - 7s 74ms/step - loss: 0.3412 - accuracy: 0.8455 - val_loss: 0.5596 - val_accuracy: 0.7407\n",
            "Epoch 174/200\n",
            "92/92 [==============================] - 7s 74ms/step - loss: 0.3419 - accuracy: 0.8486 - val_loss: 0.5233 - val_accuracy: 0.7449\n",
            "Epoch 175/200\n",
            "92/92 [==============================] - 7s 74ms/step - loss: 0.3403 - accuracy: 0.8441 - val_loss: 0.5913 - val_accuracy: 0.7243\n",
            "Epoch 176/200\n",
            "92/92 [==============================] - 7s 74ms/step - loss: 0.3421 - accuracy: 0.8452 - val_loss: 0.5163 - val_accuracy: 0.7545\n",
            "Epoch 177/200\n",
            "92/92 [==============================] - 7s 73ms/step - loss: 0.3457 - accuracy: 0.8514 - val_loss: 0.5501 - val_accuracy: 0.7311\n",
            "Epoch 178/200\n",
            "92/92 [==============================] - 7s 73ms/step - loss: 0.3364 - accuracy: 0.8483 - val_loss: 0.6451 - val_accuracy: 0.7106\n",
            "Epoch 179/200\n",
            "92/92 [==============================] - 7s 73ms/step - loss: 0.3374 - accuracy: 0.8407 - val_loss: 0.5523 - val_accuracy: 0.7435\n",
            "Epoch 180/200\n",
            "92/92 [==============================] - 7s 73ms/step - loss: 0.3388 - accuracy: 0.8582 - val_loss: 0.5642 - val_accuracy: 0.7545\n",
            "Epoch 181/200\n",
            "92/92 [==============================] - 7s 73ms/step - loss: 0.3370 - accuracy: 0.8544 - val_loss: 0.5873 - val_accuracy: 0.7298\n",
            "Epoch 182/200\n",
            "92/92 [==============================] - 11s 120ms/step - loss: 0.3327 - accuracy: 0.8514 - val_loss: 0.6208 - val_accuracy: 0.7284\n",
            "Epoch 183/200\n",
            "92/92 [==============================] - 7s 75ms/step - loss: 0.3322 - accuracy: 0.8524 - val_loss: 0.6125 - val_accuracy: 0.7366\n",
            "Epoch 184/200\n",
            "92/92 [==============================] - 7s 74ms/step - loss: 0.3279 - accuracy: 0.8534 - val_loss: 0.5195 - val_accuracy: 0.7627\n",
            "Epoch 185/200\n",
            "92/92 [==============================] - 7s 73ms/step - loss: 0.3329 - accuracy: 0.8568 - val_loss: 0.5371 - val_accuracy: 0.7407\n",
            "Epoch 186/200\n",
            "92/92 [==============================] - 7s 74ms/step - loss: 0.3297 - accuracy: 0.8520 - val_loss: 0.6605 - val_accuracy: 0.7078\n",
            "Epoch 187/200\n",
            "92/92 [==============================] - 7s 74ms/step - loss: 0.3215 - accuracy: 0.8544 - val_loss: 0.7190 - val_accuracy: 0.6941\n",
            "Epoch 188/200\n",
            "92/92 [==============================] - 7s 74ms/step - loss: 0.3303 - accuracy: 0.8572 - val_loss: 0.5629 - val_accuracy: 0.7380\n",
            "Epoch 189/200\n",
            "92/92 [==============================] - 7s 74ms/step - loss: 0.3250 - accuracy: 0.8541 - val_loss: 0.5604 - val_accuracy: 0.7353\n",
            "Epoch 190/200\n",
            "92/92 [==============================] - 7s 74ms/step - loss: 0.3204 - accuracy: 0.8572 - val_loss: 0.6989 - val_accuracy: 0.7106\n",
            "Epoch 191/200\n",
            "92/92 [==============================] - 7s 73ms/step - loss: 0.3320 - accuracy: 0.8623 - val_loss: 0.6184 - val_accuracy: 0.7133\n",
            "Epoch 192/200\n",
            "92/92 [==============================] - 7s 74ms/step - loss: 0.3204 - accuracy: 0.8565 - val_loss: 0.6216 - val_accuracy: 0.7476\n",
            "Epoch 193/200\n",
            "92/92 [==============================] - 7s 74ms/step - loss: 0.3215 - accuracy: 0.8596 - val_loss: 0.5249 - val_accuracy: 0.7586\n",
            "Epoch 194/200\n",
            "92/92 [==============================] - 7s 73ms/step - loss: 0.3174 - accuracy: 0.8572 - val_loss: 0.5149 - val_accuracy: 0.7531\n",
            "Epoch 195/200\n",
            "92/92 [==============================] - 7s 73ms/step - loss: 0.3118 - accuracy: 0.8599 - val_loss: 0.5293 - val_accuracy: 0.7490\n",
            "Epoch 196/200\n",
            "92/92 [==============================] - 7s 74ms/step - loss: 0.3127 - accuracy: 0.8617 - val_loss: 0.5648 - val_accuracy: 0.7380\n",
            "Epoch 197/200\n",
            "92/92 [==============================] - 7s 73ms/step - loss: 0.3149 - accuracy: 0.8630 - val_loss: 0.5010 - val_accuracy: 0.7613\n",
            "Epoch 198/200\n",
            "92/92 [==============================] - 7s 73ms/step - loss: 0.3123 - accuracy: 0.8596 - val_loss: 0.6209 - val_accuracy: 0.7270\n",
            "Epoch 199/200\n",
            "92/92 [==============================] - 7s 74ms/step - loss: 0.3136 - accuracy: 0.8603 - val_loss: 0.6007 - val_accuracy: 0.7298\n",
            "Epoch 200/200\n",
            "92/92 [==============================] - 7s 74ms/step - loss: 0.3165 - accuracy: 0.8606 - val_loss: 0.5221 - val_accuracy: 0.7476\n"
          ]
        }
      ],
      "source": [
        "from tensorflow import keras \n",
        "from tensorflow.keras.callbacks import History \n",
        "from tensorflow.keras import Sequential\n",
        "from tensorflow.keras.layers import Conv2D, Flatten, Dense\n",
        "#from keras.models import Sequential\n",
        "from tensorflow.keras.layers import Dense, Dropout, Activation, Flatten\n",
        "from tensorflow.keras.layers import Conv2D, MaxPooling2D\n",
        "\n",
        "batch_size = 32\n",
        "num_classes = 2\n",
        "epochs = 200\n",
        "\n",
        "# convert class vectors to binary class matrices\n",
        "y_train = keras.utils.to_categorical(y_train, num_classes)\n",
        "y_test = keras.utils.to_categorical(y_test, num_classes)\n",
        "\n",
        "\n",
        "model = Sequential()\n",
        "model.add(Conv2D(32, (3, 3), padding='same',input_shape=input_shape))\n",
        "model.add(Activation('relu'))\n",
        "model.add(Conv2D(32, (3, 3)))\n",
        "model.add(Activation('relu'))\n",
        "model.add(MaxPooling2D(pool_size=(2, 2)))\n",
        "#model.add(Dropout(0.25))\n",
        "\n",
        "model.add(Flatten())\n",
        "model.add(Dense(10))\n",
        "model.add(Activation('relu'))\n",
        "#model.add(Dropout(0.5))\n",
        "model.add(Dense(num_classes))\n",
        "model.add(Activation('softmax'))\n",
        "\n",
        "# initiate RMSprop optimizer\n",
        "opt = keras.optimizers.RMSprop(lr=0.0001, decay=1e-6)\n",
        "\n",
        "# Let's train the model using RMSprop\n",
        "model.compile(loss='categorical_crossentropy',\n",
        "              optimizer=opt,\n",
        "              metrics=['accuracy'])\n",
        "\n",
        "x_train = x_train.astype('float32')\n",
        "x_test = x_test.astype('float32')\n",
        "#x_train /= 255\n",
        "#x_test /= 255\n",
        "history = History()\n",
        "\n",
        "history=model.fit(x_train, y_train,\n",
        "          batch_size=batch_size,\n",
        "          epochs=epochs,\n",
        "          validation_data=(x_test, y_test),\n",
        "          shuffle=True)"
      ]
    },
    {
      "cell_type": "code",
      "execution_count": null,
      "metadata": {
        "id": "r97NQZ9eSXM4",
        "colab": {
          "base_uri": "https://localhost:8080/",
          "height": 599
        },
        "outputId": "b3d59f70-f88e-4fee-fc3d-195229b29f7d"
      },
      "outputs": [
        {
          "output_type": "stream",
          "name": "stdout",
          "text": [
            "dict_keys(['loss', 'accuracy', 'val_loss', 'val_accuracy'])\n"
          ]
        },
        {
          "output_type": "display_data",
          "data": {
            "text/plain": [
              "<Figure size 432x288 with 1 Axes>"
            ],
            "image/png": "[encoded data removed]"
          },
          "metadata": {
            "needs_background": "light"
          }
        },
        {
          "output_type": "display_data",
          "data": {
            "text/plain": [
              "<Figure size 432x288 with 1 Axes>"
            ],
            "image/png": "[encoded data removed]"
          },
          "metadata": {
            "needs_background": "light"
          }
        }
      ],
      "source": [
        "print(history.history.keys())\n",
        "#  \"Accuracy\"\n",
        "plt.plot(history.history['accuracy'])\n",
        "plt.plot(history.history['val_accuracy'])\n",
        "plt.title('model accuracy')\n",
        "plt.ylabel('accuracy')\n",
        "plt.xlabel('epoch')\n",
        "plt.legend(['train', 'validation'], loc='upper left')\n",
        "plt.show()\n",
        "# \"Loss\"\n",
        "plt.plot(history.history['loss'])\n",
        "plt.plot(history.history['val_loss'])\n",
        "plt.title('model loss')\n",
        "plt.ylabel('loss')\n",
        "plt.xlabel('epoch')\n",
        "plt.legend(['train', 'validation'], loc='upper left')\n",
        "plt.show()"
      ]
    },
    {
      "cell_type": "code",
      "execution_count": null,
      "metadata": {
        "id": "gTwXUbthSZw9",
        "colab": {
          "base_uri": "https://localhost:8080/"
        },
        "outputId": "d7c19120-dacc-42df-cbd9-e256d8ec6f5c"
      },
      "outputs": [
        {
          "output_type": "stream",
          "name": "stdout",
          "text": [
            "Model: \"sequential\"\n",
            "_________________________________________________________________\n",
            " Layer (type)                Output Shape              Param #   \n",
            "=================================================================\n",
            " conv2d (Conv2D)             (None, 28, 28, 32)        896       \n",
            "                                                                 \n",
            " activation (Activation)     (None, 28, 28, 32)        0         \n",
            "                                                                 \n",
            " conv2d_1 (Conv2D)           (None, 26, 26, 32)        9248      \n",
            "                                                                 \n",
            " activation_1 (Activation)   (None, 26, 26, 32)        0         \n",
            "                                                                 \n",
            " max_pooling2d (MaxPooling2D  (None, 13, 13, 32)       0         \n",
            " )                                                               \n",
            "                                                                 \n",
            " flatten (Flatten)           (None, 5408)              0         \n",
            "                                                                 \n",
            " dense (Dense)               (None, 10)                54090     \n",
            "                                                                 \n",
            " activation_2 (Activation)   (None, 10)                0         \n",
            "                                                                 \n",
            " dense_1 (Dense)             (None, 2)                 22        \n",
            "                                                                 \n",
            " activation_3 (Activation)   (None, 2)                 0         \n",
            "                                                                 \n",
            "=================================================================\n",
            "Total params: 64,256\n",
            "Trainable params: 64,256\n",
            "Non-trainable params: 0\n",
            "_________________________________________________________________\n"
          ]
        }
      ],
      "source": [
        "model.summary()"
      ]
    }
  ],
  "metadata": {
    "colab": {
      "provenance": [],
      "authorship_tag": "ABX9TyOx9m0isuB5Ysax3xgfkgtC",
      "include_colab_link": true
    },
    "kernelspec": {
      "display_name": "Python 3",
      "name": "python3"
    },
    "language_info": {
      "name": "python"
    }
  },
  "nbformat": 4,
  "nbformat_minor": 0
}